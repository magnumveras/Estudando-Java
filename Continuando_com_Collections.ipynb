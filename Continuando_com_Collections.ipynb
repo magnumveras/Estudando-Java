{
  "nbformat": 4,
  "nbformat_minor": 0,
  "metadata": {
    "colab": {
      "name": "Continuando com Collections",
      "provenance": [],
      "collapsed_sections": [],
      "authorship_tag": "ABX9TyPtiyB7yXD7jrHz83XgjGQe",
      "include_colab_link": true
    },
    "kernelspec": {
      "name": "python3",
      "display_name": "Python 3"
    },
    "language_info": {
      "name": "python"
    }
  },
  "cells": [
    {
      "cell_type": "markdown",
      "metadata": {
        "id": "view-in-github",
        "colab_type": "text"
      },
      "source": [
        "<a href=\"https://colab.research.google.com/github/magnumveras/Estudando-Java/blob/master/Continuando_com_Collections.ipynb\" target=\"_parent\"><img src=\"https://colab.research.google.com/assets/colab-badge.svg\" alt=\"Open In Colab\"/></a>"
      ]
    },
    {
      "cell_type": "code",
      "execution_count": 1,
      "metadata": {
        "id": "oLLxEsA7OLEX"
      },
      "outputs": [],
      "source": [
        "usuarios_data_sciente = [15, 23, 43, 56]\n",
        "usuarios_machine_learning = [13, 23, 56, 42]"
      ]
    },
    {
      "cell_type": "code",
      "source": [
        "#Conjunto set os elementos aparecem de forma única, mas não possui a ordem que uma lista possui.\n",
        "\n",
        "assistiram = []\n",
        "assistiram = usuarios_data_sciente.copy()\n",
        "assistiram.extend(usuarios_machine_learning)\n",
        "print(assistiram)"
      ],
      "metadata": {
        "colab": {
          "base_uri": "https://localhost:8080/"
        },
        "id": "7H0h-mvnPB1A",
        "outputId": "4de4d185-ea0b-4df8-a102-a69d3289e474"
      },
      "execution_count": 3,
      "outputs": [
        {
          "output_type": "stream",
          "name": "stdout",
          "text": [
            "[15, 23, 43, 56, 13, 23, 56, 42]\n"
          ]
        }
      ]
    },
    {
      "cell_type": "code",
      "source": [
        "len(assistiram)"
      ],
      "metadata": {
        "colab": {
          "base_uri": "https://localhost:8080/"
        },
        "id": "pNlk-A5oSDfG",
        "outputId": "1de48e40-7bbe-493a-d2b3-d2ad6ef2c1f0"
      },
      "execution_count": 4,
      "outputs": [
        {
          "output_type": "execute_result",
          "data": {
            "text/plain": [
              "8"
            ]
          },
          "metadata": {},
          "execution_count": 4
        }
      ]
    },
    {
      "cell_type": "code",
      "source": [
        "set(assistiram)\n"
      ],
      "metadata": {
        "colab": {
          "base_uri": "https://localhost:8080/"
        },
        "id": "EeBxvlEpSHVE",
        "outputId": "e2b5e65a-6028-4f5b-ed54-3f87faefa926"
      },
      "execution_count": 7,
      "outputs": [
        {
          "output_type": "execute_result",
          "data": {
            "text/plain": [
              "{13, 15, 23, 42, 43, 56}"
            ]
          },
          "metadata": {},
          "execution_count": 7
        }
      ]
    },
    {
      "cell_type": "code",
      "source": [
        "# As chaves definem um conjunto, igual a um conjunto matemático \n",
        "usuarios_data_sciente = {15, 23, 43, 56}\n",
        "usuarios_machine_learning = {13, 23, 56, 42}\n",
        "\n",
        "usuarios_data_sciente | usuarios_machine_learning"
      ],
      "metadata": {
        "colab": {
          "base_uri": "https://localhost:8080/"
        },
        "id": "FdsZbNAgSSLl",
        "outputId": "4d28f1a4-74ec-40b3-f37d-38f37b9f2f76"
      },
      "execution_count": 8,
      "outputs": [
        {
          "output_type": "execute_result",
          "data": {
            "text/plain": [
              "{13, 15, 23, 42, 43, 56}"
            ]
          },
          "metadata": {},
          "execution_count": 8
        }
      ]
    }
  ]
}